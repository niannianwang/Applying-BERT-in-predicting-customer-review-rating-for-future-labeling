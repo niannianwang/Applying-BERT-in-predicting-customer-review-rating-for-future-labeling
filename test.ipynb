{
 "cells": [
  {
   "cell_type": "code",
   "execution_count": 13,
   "metadata": {},
   "outputs": [
    {
     "data": {
      "text/plain": [
       "-0.9254"
      ]
     },
     "execution_count": 13,
     "metadata": {},
     "output_type": "execute_result"
    }
   ],
   "source": [
    "from vaderSentiment.vaderSentiment import SentimentIntensityAnalyzer\n",
    "import nltk\n",
    "import textblob\n",
    "#print(sentiment(\"I paid 1 hotcakes and 1 hash brown by drive through behind me couple cars lined up and I waited 5 min to pick my food last time same order they missed hash brown so i was about to check the items but behind people waiting so I moved my car near by signal I checked hash brown missing again this time I want them to know so I turn and reach same drive through I explained one of the women staff came and ask my bag and she inspect I was not feel good at this point later she ask a male staff and discussing something and looking me like Im lying Bullshit who train the business ethics and code of cundect what the \"))\n",
    "text = \"I paid 1 hotcakes and 1 hash brown by drive through behind me couple cars lined up and I waited 5 min to pick my food last time same order they missed hash brown so i was about to check the items but behind people waiting so I moved my car near by signal I checked hash brown missing again this time I want them to know so I turn and reach same drive through I explained one of the women staff came and ask my bag and she inspect I was not feel good at this point later she ask a male staff and discussing something and looking me like Im lying Bullshit who train the business ethics and code of cundect what the \"\n",
    "\n",
    "def sentimentation(sentences):\n",
    "    analyzer = SentimentIntensityAnalyzer()\n",
    "    #compound_score = sentiment['compound']\n",
    "    # Break down the text into sentences\n",
    "    sentences = nltk.sent_tokenize(sentences)\n",
    "\n",
    "    # Analyze sentiment for each sentence\n",
    "    for sentence in sentences:\n",
    "        sentiment = analyzer.polarity_scores(sentence)\n",
    "\n",
    "    return sentiment['compound']\n",
    "\n",
    "sentimentation(text)"
   ]
  }
 ],
 "metadata": {
  "kernelspec": {
   "display_name": "Python 3",
   "language": "python",
   "name": "python3"
  },
  "language_info": {
   "codemirror_mode": {
    "name": "ipython",
    "version": 3
   },
   "file_extension": ".py",
   "mimetype": "text/x-python",
   "name": "python",
   "nbconvert_exporter": "python",
   "pygments_lexer": "ipython3",
   "version": "3.9.6"
  },
  "orig_nbformat": 4
 },
 "nbformat": 4,
 "nbformat_minor": 2
}
